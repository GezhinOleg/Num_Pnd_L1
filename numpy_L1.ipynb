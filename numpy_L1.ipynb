{
  "nbformat": 4,
  "nbformat_minor": 0,
  "metadata": {
    "colab": {
      "name": "numpy_L1.ipynb",
      "provenance": [],
      "authorship_tag": "ABX9TyNi0dSR43Bj/iqZXO9neV7O",
      "include_colab_link": true
    },
    "kernelspec": {
      "name": "python3",
      "display_name": "Python 3"
    },
    "language_info": {
      "name": "python"
    }
  },
  "cells": [
    {
      "cell_type": "markdown",
      "metadata": {
        "id": "view-in-github",
        "colab_type": "text"
      },
      "source": [
        "<a href=\"https://colab.research.google.com/github/GezhinOleg/Num_Pnd_L1/blob/main/numpy_L1.ipynb\" target=\"_parent\"><img src=\"https://colab.research.google.com/assets/colab-badge.svg\" alt=\"Open In Colab\"/></a>"
      ]
    },
    {
      "cell_type": "code",
      "metadata": {
        "id": "l7hG7e966tMg"
      },
      "source": [
        ""
      ],
      "execution_count": null,
      "outputs": []
    },
    {
      "cell_type": "markdown",
      "metadata": {
        "id": "0theDtu97V4o"
      },
      "source": [
        "Задание 1\n",
        "Создайте numpy array с элементами от числа N до 0\n",
        "(например, для N = 10 это будет\n",
        "array([9, 8, 7, 6, 5, 4, 3, 2, 1, 0]))."
      ]
    },
    {
      "cell_type": "code",
      "metadata": {
        "id": "Kg3PDdBs7Y2W"
      },
      "source": [
        "import numpy as np"
      ],
      "execution_count": 1,
      "outputs": []
    },
    {
      "cell_type": "code",
      "metadata": {
        "colab": {
          "base_uri": "https://localhost:8080/"
        },
        "id": "t5rG-Vfo7bSU",
        "outputId": "21943844-def4-4492-fb28-26f4d3607f2e"
      },
      "source": [
        "# Два варианта, первый придумал сам, второй подсмотрел в сети.\n",
        "num = int(input())\n",
        "arr = np.arange(-num, 1) * -1\n",
        "print(arr)\n",
        "# ------------------------\n",
        "arr2 = np.arange(num + 1)\n",
        "arr2 = arr2[::-1]\n",
        "print(arr2)"
      ],
      "execution_count": 2,
      "outputs": [
        {
          "output_type": "stream",
          "text": [
            "5\n",
            "[5 4 3 2 1 0]\n",
            "[5 4 3 2 1 0]\n"
          ],
          "name": "stdout"
        }
      ]
    },
    {
      "cell_type": "markdown",
      "metadata": {
        "id": "dIURyewO7jr5"
      },
      "source": [
        "Задание 2\n",
        "Создайте диагональную матрицу с элементами от N до 0.\n",
        "Посчитайте сумму ее значений на диагонали."
      ]
    },
    {
      "cell_type": "code",
      "metadata": {
        "colab": {
          "base_uri": "https://localhost:8080/"
        },
        "id": "wzosT14L7nyW",
        "outputId": "b7d6aa10-231a-460b-a135-fdf47c94f132"
      },
      "source": [
        "num = int(input())\n",
        "arr3 = np.diag(np.arange(-num, 1) * -1, k=0)\n",
        "print(arr3)\n",
        "print('Diagonal (sum): ', np.trace(arr3))\n",
        "print('Diagonal (elements): ', np.diagonal(arr3))"
      ],
      "execution_count": 3,
      "outputs": [
        {
          "output_type": "stream",
          "text": [
            "10\n",
            "[[10  0  0  0  0  0  0  0  0  0  0]\n",
            " [ 0  9  0  0  0  0  0  0  0  0  0]\n",
            " [ 0  0  8  0  0  0  0  0  0  0  0]\n",
            " [ 0  0  0  7  0  0  0  0  0  0  0]\n",
            " [ 0  0  0  0  6  0  0  0  0  0  0]\n",
            " [ 0  0  0  0  0  5  0  0  0  0  0]\n",
            " [ 0  0  0  0  0  0  4  0  0  0  0]\n",
            " [ 0  0  0  0  0  0  0  3  0  0  0]\n",
            " [ 0  0  0  0  0  0  0  0  2  0  0]\n",
            " [ 0  0  0  0  0  0  0  0  0  1  0]\n",
            " [ 0  0  0  0  0  0  0  0  0  0  0]]\n",
            "Diagonal (sum):  55\n",
            "Diagonal (elements):  [10  9  8  7  6  5  4  3  2  1  0]\n"
          ],
          "name": "stdout"
        }
      ]
    },
    {
      "cell_type": "markdown",
      "metadata": {
        "id": "BHY7-ZVb7v-n"
      },
      "source": [
        "Задание 3\n",
        "Решите систему уравнений:\n",
        "4x + 2y + z = 4\n",
        "x + 3y = 12\n",
        "5y + 4z = -3"
      ]
    },
    {
      "cell_type": "code",
      "metadata": {
        "colab": {
          "base_uri": "https://localhost:8080/"
        },
        "id": "Dl7xBRmZ7ypw",
        "outputId": "4a90c179-a941-4cc3-cb6b-05300ab8edd4"
      },
      "source": [
        "a = np.array([[4, 2, 1], [1, 3, 0], [0, 5, 4]])\n",
        "b = np.array([4, 12, -3])\n",
        "x = np.linalg.solve(a, b)\n",
        "\n",
        "print(x)"
      ],
      "execution_count": 4,
      "outputs": [
        {
          "output_type": "stream",
          "text": [
            "[ 0.46666667  3.84444444 -5.55555556]\n"
          ],
          "name": "stdout"
        }
      ]
    },
    {
      "cell_type": "markdown",
      "metadata": {
        "id": "St6-TZP573t1"
      },
      "source": [
        "Имеется матрица покупок в интернет-магазине.\n",
        "Столбец А - ID пользователя. Остальные\n",
        "столбцы - количество покупок категорий\n",
        "товаров этим пользователем:"
      ]
    },
    {
      "cell_type": "code",
      "metadata": {
        "id": "PErJPpPS76aX"
      },
      "source": [
        "def return_a():\n",
        "    a = np.array([0, 1, 2, 0, 0, 0])\n",
        "    aLength = np.linalg.norm(a)\n",
        "    return aLength"
      ],
      "execution_count": 10,
      "outputs": []
    },
    {
      "cell_type": "code",
      "metadata": {
        "id": "WPubYdQF789R"
      },
      "source": [
        "def cosine(a, b, aLength):\n",
        "    \"\"\"\n",
        "    Подсчет косинуса угла между векторами a, b по их координатам\n",
        "    \"\"\"\n",
        "    # длины векторов\n",
        "    bLength = np.linalg.norm(b)\n",
        "    return np.dot(a, b) / (aLength * bLength)"
      ],
      "execution_count": 11,
      "outputs": []
    },
    {
      "cell_type": "code",
      "metadata": {
        "id": "Fc1vZqdA8H7V"
      },
      "source": [
        "def calculation():\n",
        "    '''\n",
        "    В цикле перебираем векторы и тот, который имеет минимальное значение\n",
        "    косинуса выводится в виде результата\n",
        "    '''\n",
        "    aLength = return_a()\n",
        "    users_stats = np.array(\n",
        "        [\n",
        "            [2, 1, 0, 0, 0, 0],\n",
        "            [1, 1, 2, 1, 0, 0],\n",
        "            [2, 0, 1, 0, 0, 0],\n",
        "            [1, 1, 2, 1, 0, 1],\n",
        "            [0, 0, 1, 2, 0, 0],\n",
        "            [0, 0, 0, 0, 0, 5],\n",
        "            [1, 0, 0, 0, 0, 0],\n",
        "            [0, 1, 1, 0, 0, 0],\n",
        "            [0, 0, 0, 1, 1, 3],\n",
        "            [1, 0, 0, 2, 1, 4]\n",
        "        ],\n",
        "        np.int32\n",
        "    )\n",
        "    a = np.array([0, 1, 2, 0, 0, 0])\n",
        "    cos_max = 0\n",
        "    nearest_vector = a\n",
        "    for i in users_stats:\n",
        "        b = i\n",
        "        result = cosine(a, b, aLength)\n",
        "        if result > cos_max:\n",
        "            cos_max = result\n",
        "            nearest_vector = b\n",
        "    return nearest_vector\n"
      ],
      "execution_count": 12,
      "outputs": []
    },
    {
      "cell_type": "code",
      "metadata": {
        "colab": {
          "base_uri": "https://localhost:8080/"
        },
        "id": "Wb7AzOYT8J4f",
        "outputId": "35da6bbb-7806-4928-b217-e5cf40c6846a"
      },
      "source": [
        "if __name__ == '__main__':\n",
        "    print('Самый похожй пользователь: ', calculation())"
      ],
      "execution_count": 14,
      "outputs": [
        {
          "output_type": "stream",
          "text": [
            "Самый похожй пользователь:  [0 1 1 0 0 0]\n"
          ],
          "name": "stdout"
        }
      ]
    }
  ]
}